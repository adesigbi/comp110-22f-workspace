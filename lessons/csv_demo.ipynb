{
 "cells": [
  {
   "cell_type": "markdown",
   "metadata": {},
   "source": [
    "# Working with CSV Data\n",
    "\n",
    "comma-seperated value files are commonly used for sharing tables of data btween systems. \n",
    "\n",
    "Programs like microsoft Excel, google sheets, as well as popular data bas systems can produce CSV files as exports and programs, such as the one we will write today, have ht elibraries for reading and processing data in from CSV files."
   ]
  },
  {
   "cell_type": "code",
   "execution_count": null,
   "metadata": {},
   "outputs": [],
   "source": [
    "%reload_ext autoreload\n",
    "%autoreload 2\n",
    "print(\"Autoreload of imported modules enabled. Be sure to save your modules!\")"
   ]
  },
  {
   "cell_type": "markdown",
   "metadata": {},
   "source": [
    "## Importing Utility Functions \n",
    "\n",
    "Our helper functions will be located in `lessons/data_utils.py` and we will import the functions in the code cell below"
   ]
  },
  {
   "cell_type": "code",
   "execution_count": 8,
   "metadata": {},
   "outputs": [
    {
     "name": "stdout",
     "output_type": "stream",
     "text": [
      "<csv.DictReader object at 0x0000021F375C5CF0>\n"
     ]
    },
    {
     "data": {
      "text/plain": [
       "[{'date': '10/6', 'low': '56', 'high': '75'},\n",
       " {'date': '10/7', 'low': '57', 'high': '76'},\n",
       " {'date': '10/8', 'low': '62', 'high': '75'},\n",
       " {'date': '10/19', 'low': '64', 'high': '79'}]"
      ]
     },
     "execution_count": 8,
     "metadata": {},
     "output_type": "execute_result"
    }
   ],
   "source": [
    "from data_utils import read_csv_rows\n",
    "\n",
    "data_file: str = \"../data/weather.csv\"\n",
    "data_table: list[dict[str, str]] = read_csv_rows(data_file)\n",
    "data_table"
   ]
  },
  {
   "cell_type": "markdown",
   "metadata": {},
   "source": [
    "## Selecting the values of a single column with `column_values`"
   ]
  },
  {
   "cell_type": "code",
   "execution_count": 10,
   "metadata": {},
   "outputs": [
    {
     "ename": "ImportError",
     "evalue": "cannot import name 'column_values' from 'data_utils' (c:\\Users\\Ade\\comp110-22f-workspace-1\\lessons\\data_utils.py)",
     "output_type": "error",
     "traceback": [
      "\u001b[1;31m---------------------------------------------------------------------------\u001b[0m",
      "\u001b[1;31mImportError\u001b[0m                               Traceback (most recent call last)",
      "\u001b[1;32mc:\\Users\\Ade\\comp110-22f-workspace-1\\lessons\\csv_demo.ipynb Cell 6\u001b[0m in \u001b[0;36m<cell line: 1>\u001b[1;34m()\u001b[0m\n\u001b[1;32m----> <a href='vscode-notebook-cell:/c%3A/Users/Ade/comp110-22f-workspace-1/lessons/csv_demo.ipynb#W6sZmlsZQ%3D%3D?line=0'>1</a>\u001b[0m \u001b[39mfrom\u001b[39;00m \u001b[39mdata_utils\u001b[39;00m \u001b[39mimport\u001b[39;00m column_values\n\u001b[0;32m      <a href='vscode-notebook-cell:/c%3A/Users/Ade/comp110-22f-workspace-1/lessons/csv_demo.ipynb#W6sZmlsZQ%3D%3D?line=2'>3</a>\u001b[0m dates: \u001b[39mlist\u001b[39m[\u001b[39mstr\u001b[39m] \u001b[39m=\u001b[39m column_values(data_table, \u001b[39m\"\u001b[39m\u001b[39mdates\u001b[39m\u001b[39m\"\u001b[39m)\n\u001b[0;32m      <a href='vscode-notebook-cell:/c%3A/Users/Ade/comp110-22f-workspace-1/lessons/csv_demo.ipynb#W6sZmlsZQ%3D%3D?line=3'>4</a>\u001b[0m dates\n",
      "\u001b[1;31mImportError\u001b[0m: cannot import name 'column_values' from 'data_utils' (c:\\Users\\Ade\\comp110-22f-workspace-1\\lessons\\data_utils.py)"
     ]
    }
   ],
   "source": [
    "from data_utils import column_values\n",
    "\n",
    "dates: list[str] = column_values(data_table, \"dates\")\n",
    "dates"
   ]
  },
  {
   "cell_type": "markdown",
   "metadata": {},
   "source": [
    "## Convert a row-oriented table to a column-oritented \"table\""
   ]
  },
  {
   "cell_type": "code",
   "execution_count": 9,
   "metadata": {},
   "outputs": [
    {
     "ename": "ImportError",
     "evalue": "cannot import name 'columnar' from 'data_utils' (c:\\Users\\Ade\\comp110-22f-workspace-1\\lessons\\data_utils.py)",
     "output_type": "error",
     "traceback": [
      "\u001b[1;31m---------------------------------------------------------------------------\u001b[0m",
      "\u001b[1;31mImportError\u001b[0m                               Traceback (most recent call last)",
      "\u001b[1;32mc:\\Users\\Ade\\comp110-22f-workspace-1\\lessons\\csv_demo.ipynb Cell 8\u001b[0m in \u001b[0;36m<cell line: 1>\u001b[1;34m()\u001b[0m\n\u001b[1;32m----> <a href='vscode-notebook-cell:/c%3A/Users/Ade/comp110-22f-workspace-1/lessons/csv_demo.ipynb#X11sZmlsZQ%3D%3D?line=0'>1</a>\u001b[0m \u001b[39mfrom\u001b[39;00m \u001b[39mdata_utils\u001b[39;00m \u001b[39mimport\u001b[39;00m columnar\n\u001b[0;32m      <a href='vscode-notebook-cell:/c%3A/Users/Ade/comp110-22f-workspace-1/lessons/csv_demo.ipynb#X11sZmlsZQ%3D%3D?line=2'>3</a>\u001b[0m column_table: \u001b[39mdict\u001b[39m[\u001b[39mstr\u001b[39m, \u001b[39mlist\u001b[39m[\u001b[39mstr\u001b[39m]] \u001b[39m=\u001b[39m columnar(data_table)\n\u001b[0;32m      <a href='vscode-notebook-cell:/c%3A/Users/Ade/comp110-22f-workspace-1/lessons/csv_demo.ipynb#X11sZmlsZQ%3D%3D?line=3'>4</a>\u001b[0m column_table\n",
      "\u001b[1;31mImportError\u001b[0m: cannot import name 'columnar' from 'data_utils' (c:\\Users\\Ade\\comp110-22f-workspace-1\\lessons\\data_utils.py)"
     ]
    }
   ],
   "source": [
    "from data_utils import columnar\n",
    "\n",
    "column_table: dict[str, list[str]] = columnar(data_table)\n",
    "column_table"
   ]
  }
 ],
 "metadata": {
  "kernelspec": {
   "display_name": "Python 3.10.6 64-bit",
   "language": "python",
   "name": "python3"
  },
  "language_info": {
   "codemirror_mode": {
    "name": "ipython",
    "version": 3
   },
   "file_extension": ".py",
   "mimetype": "text/x-python",
   "name": "python",
   "nbconvert_exporter": "python",
   "pygments_lexer": "ipython3",
   "version": "3.10.6"
  },
  "orig_nbformat": 4,
  "vscode": {
   "interpreter": {
    "hash": "d46c9d33336b70717a17d926f2f28737fe37bac6a27d541049356bb649240248"
   }
  }
 },
 "nbformat": 4,
 "nbformat_minor": 2
}
